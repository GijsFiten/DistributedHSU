{
 "cells": [
  {
   "cell_type": "code",
   "execution_count": 1,
   "metadata": {},
   "outputs": [
    {
     "name": "stdout",
     "output_type": "stream",
     "text": [
      "loading annotations into memory...\n",
      "Done (t=0.05s)\n",
      "creating index...\n",
      "index created!\n"
     ]
    }
   ],
   "source": [
    "import torch\n",
    "import torchvision\n",
    "from PIL import Image\n",
    "from pycocotools.coco import COCO\n",
    "import random\n",
    "from PIL import Image\n",
    "import matplotlib.pyplot as plt\n",
    "import matplotlib.patches as patches\n",
    "from torchvision.models.detection.faster_rcnn import FastRCNNPredictor\n",
    "from torchvision.transforms import functional as F\n",
    "\n",
    "device = torch.device('cuda') if torch.cuda.is_available() else torch.device('cpu')\n",
    "\n",
    "annotations_directory = '../data/annotations/'\n",
    "images_directory = '../data/images/'\n",
    "model_path = 'pth/best_model.pth'\n",
    "\n",
    "#Load the test data\n",
    "test_ds = COCO(annotations_directory + 'test_labels.json')\n",
    "\n",
    "#Load the category names\n",
    "NYU40CLASSES = ['void',\n",
    "                'wall', 'floor', 'cabinet', 'bed', 'chair',\n",
    "                'sofa', 'table', 'door', 'window', 'bookshelf',\n",
    "                'picture', 'counter', 'blinds', 'desk', 'shelves',\n",
    "                'curtain', 'dresser', 'pillow', 'mirror', 'floor_mat',\n",
    "                'clothes', 'ceiling', 'books', 'refridgerator', 'television',\n",
    "                'paper', 'towel', 'shower_curtain', 'box', 'whiteboard',\n",
    "                'person', 'night_stand', 'toilet', 'sink', 'lamp',\n",
    "                'bathtub', 'bag', 'otherstructure', 'otherfurniture', 'otherprop']\n",
    "\n",
    "# Create a dictionary that maps category IDs to category names\n",
    "id_to_name = {i: name for i, name in enumerate(NYU40CLASSES)}"
   ]
  },
  {
   "cell_type": "code",
   "execution_count": 2,
   "metadata": {},
   "outputs": [],
   "source": [
    "img_id = random.choice(list(test_ds.imgs.keys()))\n",
    "img_info = test_ds.loadImgs(img_id)[0]\n",
    "im = Image.open(images_directory + img_info['file_name']).convert('RGB')\n",
    "\n",
    "# Get the ground truth bounding boxes and their categories for this image\n",
    "gt_annotations = test_ds.loadAnns(test_ds.getAnnIds(img_id))\n",
    "gt_boxes = [ann['bbox'] for ann in gt_annotations]\n",
    "gt_classes = [ann['category_id'] for ann in gt_annotations]\n",
    "\n",
    "#check if any void class is present\n",
    "if 0 in gt_classes:\n",
    "    print(\"Image contains void class\")\n",
    "    \n",
    "#Load the pretrained mobilenet model\n",
    "def get_model_resnet(num_classes, state_dict):\n",
    "    model = torchvision.models.detection.fasterrcnn_resnet50_fpn(pretrained=True)\n",
    "    in_features = model.roi_heads.box_predictor.cls_score.in_features\n",
    "    model.roi_heads.box_predictor = FastRCNNPredictor(in_features, num_classes)\n",
    "    model.load_state_dict(torch.load(state_dict))\n",
    "    model.eval()\n",
    "    return model\n",
    "\n",
    "# Fix the state dict\n",
    "model = get_model_resnet(41, model_path)\n",
    "model.to(device)\n",
    "image_tensor = F.to_tensor(im).unsqueeze(0).to(device)\n",
    "\n",
    "prediction_mobilenet = model(image_tensor)"
   ]
  },
  {
   "cell_type": "code",
   "execution_count": null,
   "metadata": {},
   "outputs": [],
   "source": [
    "fig, ax = plt.subplots(1, 2, figsize=(12, 8))\n",
    "\n",
    "# Draw the image and the ground truth bounding boxes on the first subplot\n",
    "ax[0].imshow(im)\n",
    "for box, category_id in zip(gt_boxes, gt_classes):\n",
    "    rect = patches.Rectangle((box[0], box[1]), box[2], box[3], linewidth=2, edgecolor='b', facecolor='none')\n",
    "    ax[0].add_patch(rect)\n",
    "    ax[0].text(box[0], box[1], id_to_name[category_id], fontsize=8,\n",
    "                bbox=dict(facecolor='yellow', alpha=0.5))\n",
    "ax[0].set_title('Ground Truth')\n",
    "\n",
    "# Draw the outputs of the model on the second subplot\n",
    "ax[1].imshow(im)\n",
    "for box, category_id, score in zip(prediction_mobilenet[0]['boxes'], prediction_mobilenet[0]['labels'], prediction_mobilenet[0]['scores']):\n",
    "    if score > 0.7:\n",
    "        # Detach the box tensor and convert it to a NumPy array\n",
    "        box = box.detach().cpu().numpy()\n",
    "        rect = patches.Rectangle((box[0], box[1]), box[2] - box[0], box[3] - box[1], linewidth=2, edgecolor='r', facecolor='none')\n",
    "        ax[1].add_patch(rect)\n",
    "        ax[1].text(box[0], box[1], id_to_name[category_id.item()] + f' {score:.2f}', fontsize=8,\n",
    "                    bbox=dict(facecolor='yellow', alpha=0.5))\n",
    "ax[1].set_title('Resnet')\n",
    "\n",
    "plt.show()"
   ]
  }
 ],
 "metadata": {
  "kernelspec": {
   "display_name": "detrex",
   "language": "python",
   "name": "python3"
  },
  "language_info": {
   "codemirror_mode": {
    "name": "ipython",
    "version": 3
   },
   "file_extension": ".py",
   "mimetype": "text/x-python",
   "name": "python",
   "nbconvert_exporter": "python",
   "pygments_lexer": "ipython3",
   "version": "3.6.10"
  }
 },
 "nbformat": 4,
 "nbformat_minor": 2
}
